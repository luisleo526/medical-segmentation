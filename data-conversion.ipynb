{
 "cells": [
  {
   "cell_type": "code",
   "id": "initial_id",
   "metadata": {
    "collapsed": true,
    "ExecuteTime": {
     "end_time": "2024-08-25T19:41:35.172646Z",
     "start_time": "2024-08-25T19:41:35.165511Z"
    }
   },
   "source": [
    "from glob import glob\n",
    "\n",
    "images = glob('D:\\Dropbox\\Datasets\\HepaticVessel\\labels\\*.seg.nrrd')\n"
   ],
   "outputs": [],
   "execution_count": 1
  },
  {
   "metadata": {
    "ExecuteTime": {
     "end_time": "2024-08-25T20:26:00.076213Z",
     "start_time": "2024-08-25T20:25:55.045697Z"
    }
   },
   "cell_type": "code",
   "source": [
    "import nrrd\n",
    "import numpy as np\n",
    "\n",
    "for image in images:\n",
    "    data, header = nrrd.read(image)\n",
    "\n",
    "    if len(np.unique(data)) != 4:\n",
    "        print(f'{image} has {len(np.unique(data))} unique values')\n",
    "        continue\n",
    "\n",
    "    if np.unique(data).tolist() != [0, 1, 2, 3]:\n",
    "\n",
    "        data = data.astype(np.uint8)\n",
    "\n",
    "        for idx, value in enumerate(np.unique(data)):\n",
    "            data[data == value] = idx\n",
    "\n",
    "        header['Segment0_ID'] = 'Segment_1'\n",
    "        header['Segment0_LabelValue'] = 1\n",
    "        header['Segment0_Layer'] = 0\n",
    "\n",
    "        header['Segment1_ID'] = 'Segment_2'\n",
    "        header['Segment1_LabelValue'] = 2\n",
    "        header['Segment1_Layer'] = 0\n",
    "\n",
    "        header['Segment2_ID'] = 'Segment_3'\n",
    "        header['Segment2_LabelValue'] = 3\n",
    "        header['Segment2_Layer'] = 0\n",
    "\n",
    "        nrrd.write(image, data, header)\n",
    "        \n",
    "        print(f'{image} has been converted')"
   ],
   "id": "58f9d62a9b7ef037",
   "outputs": [
    {
     "name": "stdout",
     "output_type": "stream",
     "text": [
      "D:\\Dropbox\\Datasets\\HepaticVessel\\labels\\hepaticvessel_148.seg.nrrd has 3 unique values\n"
     ]
    }
   ],
   "execution_count": 18
  },
  {
   "metadata": {
    "ExecuteTime": {
     "end_time": "2024-08-25T20:26:48.689719Z",
     "start_time": "2024-08-25T20:26:48.685258Z"
    }
   },
   "cell_type": "code",
   "source": "data, header = nrrd.read('D:\\Dropbox\\Datasets\\HepaticVessel\\labels\\hepaticvessel_148.seg.nrrd')",
   "id": "19e46faec0d12ce9",
   "outputs": [],
   "execution_count": 19
  },
  {
   "metadata": {
    "ExecuteTime": {
     "end_time": "2024-08-25T20:27:07.675742Z",
     "start_time": "2024-08-25T20:27:07.670693Z"
    }
   },
   "cell_type": "code",
   "source": "np.unique(data)",
   "id": "c812d236448f9bf3",
   "outputs": [
    {
     "data": {
      "text/plain": [
       "array([0, 2, 3], dtype=uint8)"
      ]
     },
     "execution_count": 21,
     "metadata": {},
     "output_type": "execute_result"
    }
   ],
   "execution_count": 21
  },
  {
   "metadata": {},
   "cell_type": "code",
   "outputs": [],
   "execution_count": null,
   "source": "",
   "id": "11d86d8922f01176"
  }
 ],
 "metadata": {
  "kernelspec": {
   "display_name": "medical-segmentation",
   "language": "python",
   "name": "medical-segmentation"
  },
  "language_info": {
   "codemirror_mode": {
    "name": "ipython",
    "version": 2
   },
   "file_extension": ".py",
   "mimetype": "text/x-python",
   "name": "python",
   "nbconvert_exporter": "python",
   "pygments_lexer": "ipython2",
   "version": "2.7.6"
  }
 },
 "nbformat": 4,
 "nbformat_minor": 5
}
