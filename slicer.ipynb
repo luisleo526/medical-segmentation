{
 "cells": [
  {
   "cell_type": "code",
   "execution_count": 1,
   "id": "5abb4482-324d-4043-aa6e-d27d39dccdb7",
   "metadata": {},
   "outputs": [],
   "source": [
    "from glob import glob\n",
    "from pathlib import Path\n",
    "\n",
    "import slicer\n",
    "\n",
    "\n",
    "def export_to_file(image_path: str, label_path: str):\n",
    "    loadedVolumeNode = slicer.util.loadVolume(image_path)\n",
    "    loadedSegNode = slicer.util.loadSegmentation(label_path)\n",
    "    save_path = f\"D:/NTUH/{loadedVolumeNode.GetName()}.nrrd\"\n",
    "    labelmapVolumeNode = slicer.mrmlScene.AddNewNodeByClass(\"vtkMRMLLabelMapVolumeNode\")\n",
    "    slicer.modules.segmentations.logic().ExportVisibleSegmentsToLabelmapNode(loadedSegNode, labelmapVolumeNode,\n",
    "                                                                             loadedVolumeNode)\n",
    "    slicer.util.saveNode(labelmapVolumeNode, str(save_path))\n",
    "    slicer.mrmlScene.RemoveNode(labelmapVolumeNode.GetDisplayNode().GetColorNode())\n",
    "    slicer.mrmlScene.RemoveNode(labelmapVolumeNode)\n",
    "    slicer.mrmlScene.RemoveNode(loadedSegNode)\n",
    "    slicer.mrmlScene.RemoveNode(loadedVolumeNode)"
   ]
  },
  {
   "cell_type": "code",
   "execution_count": 2,
   "id": "fb2344f3-872e-41aa-a561-10080f802538",
   "metadata": {},
   "outputs": [],
   "source": [
    "image_extension = '.nii.gz'\n",
    "label_extension = '.seg.nrrd'\n",
    "\n",
    "root = \"D:/Dropbox/Datasets/HepaticVessel\"\n",
    "\n",
    "image_root = Path(root) / 'images'\n",
    "label_root = Path(root) / 'labels'\n",
    "\n",
    "for image_path in glob(str(image_root / f'*{image_extension}')):\n",
    "    label_path = Path(label_root) / Path(image_path).name.replace(image_extension, label_extension)\n",
    "    try:\n",
    "        export_to_file(image_path, str(label_path))\n",
    "    except Exception as e:\n",
    "        print(str(e))"
   ]
  },
  {
   "cell_type": "code",
   "execution_count": null,
   "id": "9cd2a1db-0ec6-4df3-9d2a-baa7d6f2aaab",
   "metadata": {},
   "outputs": [],
   "source": []
  }
 ],
 "metadata": {
  "kernelspec": {
   "display_name": "Slicer 5.6",
   "language": "python",
   "name": "slicer-5.6"
  },
  "language_info": {
   "file_extension": ".py",
   "mimetype": "text/x-python",
   "name": "python",
   "version": "3.9.10"
  }
 },
 "nbformat": 4,
 "nbformat_minor": 5
}
