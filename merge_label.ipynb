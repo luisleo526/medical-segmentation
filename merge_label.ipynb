{
 "cells": [
  {
   "cell_type": "code",
   "id": "f471a09b-bc29-4057-8f8f-0b7dbbb9d3e6",
   "metadata": {
    "tags": [],
    "ExecuteTime": {
     "end_time": "2024-11-18T15:32:09.382595Z",
     "start_time": "2024-11-18T15:32:09.276341Z"
    }
   },
   "source": [
    "from hydra import compose, initialize\n",
    "\n",
    "from dataset import get_transforms, load_datalist\n",
    "\n",
    "with initialize(version_base=None, config_path=\"config\", job_name=\"test_app\"):\n",
    "    cfg = compose(config_name=\"root\",\n",
    "                  overrides=['data=task8', 'data.root=D:/NTUH', 'debug=false', 'data.normalize_values=[0,0]',\n",
    "                             'data.clip_values=[0,0]', 'data.train.images=images/*.nii.gz',\n",
    "                             'data.train.labels=labels/*.nrrd', 'data.test.images=images/*.nii.gz',\n",
    "                             'data.train.label_extension=nrrd'])\n",
    "\n",
    "datalist = load_datalist(cfg)\n",
    "\n",
    "transform = get_transforms('test', cfg, no_aug=True)"
   ],
   "outputs": [],
   "execution_count": 3
  },
  {
   "metadata": {
    "ExecuteTime": {
     "end_time": "2024-11-18T15:50:16.108342Z",
     "start_time": "2024-11-18T15:50:14.869405Z"
    }
   },
   "cell_type": "code",
   "source": [
    "from pathlib import Path\n",
    "import os\n",
    "import shutil\n",
    "\n",
    "Path(r'D:\\NTUH\\labels_tumor').mkdir(exist_ok=True, parents=True)\n",
    "\n",
    "for image_path in Path(r'D:\\NTUH\\images').glob('*.nii.gz'):\n",
    "    if os.path.exists(str(image_path).replace(r'NTUH\\images', r'Task08_HepaticVessel\\labelsTr')):\n",
    "        shutil.copy(str(image_path).replace(r'NTUH\\images', r'Task08_HepaticVessel\\labelsTr'),\n",
    "                    str(image_path).replace(r'NTUH\\images', r'NTUH\\labels_tumor'))"
   ],
   "id": "d3f15a23af97e11d",
   "outputs": [],
   "execution_count": 15
  },
  {
   "metadata": {
    "tags": [],
    "ExecuteTime": {
     "end_time": "2024-11-19T03:50:47.770749Z",
     "start_time": "2024-11-19T03:49:56.000215Z"
    }
   },
   "cell_type": "code",
   "source": [
    "import nibabel as nb\n",
    "import numpy as np\n",
    "\n",
    "Path(r'D:\\NTUH\\combined_labels').mkdir(exist_ok=True, parents=True)\n",
    "\n",
    "for tumor_label_path in Path(r'D:\\NTUH\\labels_tumor').glob('*.nii.gz'):\n",
    "    label_path = str(tumor_label_path).replace(r'NTUH\\labels_tumor', r'NTUH\\labels')\n",
    "    \n",
    "    lab_img = nb.load(label_path)\n",
    "    tumor_img = nb.load(tumor_label_path)\n",
    "    \n",
    "    lab_data = np.asarray(lab_img.dataobj)\n",
    "    tumor_lab_data = np.asarray(tumor_img.dataobj)\n",
    "    \n",
    "    lab_data[tumor_lab_data == 2] = 4\n",
    "    \n",
    "    new_file = str(tumor_label_path).replace(r'NTUH\\labels_tumor', r'NTUH\\combined_labels')\n",
    "    new_img = nb.Nifti1Image(lab_data, lab_img.affine, lab_img.header)\n",
    "    nb.save(new_img, new_file)"
   ],
   "id": "5f121ffe-b879-43e5-9e46-18b706ebfb20",
   "outputs": [],
   "execution_count": 71
  },
  {
   "metadata": {},
   "cell_type": "code",
   "outputs": [],
   "execution_count": null,
   "source": "",
   "id": "37514a54a16d0af5"
  }
 ],
 "metadata": {
  "kernelspec": {
   "display_name": "medical-segmentation",
   "language": "python",
   "name": "medical-segmentation"
  },
  "language_info": {
   "codemirror_mode": {
    "name": "ipython",
    "version": 3
   },
   "file_extension": ".py",
   "mimetype": "text/x-python",
   "name": "python",
   "nbconvert_exporter": "python",
   "pygments_lexer": "ipython3",
   "version": "3.10.14"
  }
 },
 "nbformat": 4,
 "nbformat_minor": 5
}
