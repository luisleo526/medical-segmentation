{
 "cells": [
  {
   "cell_type": "code",
   "execution_count": 1,
   "id": "d0d21841",
   "metadata": {
    "tags": []
   },
   "outputs": [
    {
     "name": "stderr",
     "output_type": "stream",
     "text": [
      "/usr/local/lib/python3.10/dist-packages/tqdm/auto.py:21: TqdmWarning: IProgress not found. Please update jupyter and ipywidgets. See https://ipywidgets.readthedocs.io/en/stable/user_install.html\n",
      "  from .autonotebook import tqdm as notebook_tqdm\n"
     ]
    }
   ],
   "source": [
    "from hydra import compose, initialize\n",
    "from omegaconf import OmegaConf\n",
    "from dataset import get_transforms\n",
    "\n",
    "with initialize(version_base=None, config_path=\"config\", job_name=\"test_app\"):\n",
    "    cfg = compose(config_name=\"root\", overrides=['data=task3'])\n",
    "    \n",
    "transform = get_transforms('test', cfg)"
   ]
  },
  {
   "cell_type": "code",
   "execution_count": 2,
   "id": "41fd359c",
   "metadata": {
    "tags": []
   },
   "outputs": [],
   "source": [
    "from glob import glob\n",
    "from monai.data import Dataset\n",
    "from monai.data import DataLoader\n",
    "datapaths = []\n",
    "\n",
    "for image_path in glob('./NTUH-CT-Images/*'):\n",
    "    datapaths.append({'image':image_path})\n",
    "    \n",
    "ds = Dataset(datapaths, transform)\n",
    "dl = DataLoader(ds, num_workers=8, batch_size=1)"
   ]
  },
  {
   "cell_type": "code",
   "execution_count": 3,
   "id": "99f49ef3-84d9-4498-95e6-829c7443afd6",
   "metadata": {
    "tags": []
   },
   "outputs": [],
   "source": [
    "batch = next(iter(dl))"
   ]
  },
  {
   "cell_type": "code",
   "execution_count": 4,
   "id": "0adb9c5d-dadb-4988-8e5a-7be25bf637a8",
   "metadata": {
    "tags": []
   },
   "outputs": [
    {
     "data": {
      "text/plain": [
       "dict_keys(['image', 'image_meta_dict', 'foreground_start_coord', 'foreground_end_coord'])"
      ]
     },
     "execution_count": 4,
     "metadata": {},
     "output_type": "execute_result"
    }
   ],
   "source": [
    "batch.keys()"
   ]
  },
  {
   "cell_type": "code",
   "execution_count": 7,
   "id": "e8b6f93a",
   "metadata": {
    "tags": []
   },
   "outputs": [
    {
     "data": {
      "text/plain": [
       "array([[[-7.49450564e-01, -0.00000000e+00, -1.91349104e-01,\n",
       "          2.02850113e+02],\n",
       "        [ 2.87023671e-02,  0.00000000e+00, -4.99633741e+00,\n",
       "          1.30801163e+02],\n",
       "        [ 0.00000000e+00, -7.50000000e-01,  0.00000000e+00,\n",
       "          2.66250000e+01],\n",
       "        [ 0.00000000e+00,  0.00000000e+00,  0.00000000e+00,\n",
       "          1.00000000e+00]]])"
      ]
     },
     "execution_count": 7,
     "metadata": {},
     "output_type": "execute_result"
    }
   ],
   "source": [
    "batch['image_meta_dict']['affine'].numpy()"
   ]
  },
  {
   "cell_type": "code",
   "execution_count": 27,
   "id": "efb40f1b-2a54-44aa-8455-0c9d04c87381",
   "metadata": {
    "tags": []
   },
   "outputs": [
    {
     "data": {
      "text/plain": [
       "tensor([[475, 424, 276]])"
      ]
     },
     "execution_count": 27,
     "metadata": {},
     "output_type": "execute_result"
    }
   ],
   "source": [
    "batch['foreground_end_coord']"
   ]
  },
  {
   "cell_type": "code",
   "execution_count": 30,
   "id": "8f37c0c2-51c1-4c56-a45d-2966badb8cef",
   "metadata": {
    "tags": []
   },
   "outputs": [
    {
     "data": {
      "text/plain": [
       "torch.Size([1, 1, 454, 350, 269])"
      ]
     },
     "execution_count": 30,
     "metadata": {},
     "output_type": "execute_result"
    }
   ],
   "source": [
    "batch['image'].shape"
   ]
  },
  {
   "cell_type": "code",
   "execution_count": null,
   "id": "470d2066-182e-4c7b-9436-fd90ee5b5c69",
   "metadata": {},
   "outputs": [],
   "source": []
  }
 ],
 "metadata": {
  "kernelspec": {
   "display_name": "Python 3 (ipykernel)",
   "language": "python",
   "name": "python3"
  },
  "language_info": {
   "codemirror_mode": {
    "name": "ipython",
    "version": 3
   },
   "file_extension": ".py",
   "mimetype": "text/x-python",
   "name": "python",
   "nbconvert_exporter": "python",
   "pygments_lexer": "ipython3",
   "version": "3.10.12"
  }
 },
 "nbformat": 4,
 "nbformat_minor": 5
}
