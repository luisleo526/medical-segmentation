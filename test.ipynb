{
 "cells": [
  {
   "cell_type": "code",
   "execution_count": 1,
   "id": "d0d21841",
   "metadata": {
    "tags": []
   },
   "outputs": [
    {
     "name": "stderr",
     "output_type": "stream",
     "text": [
      "/usr/local/lib/python3.10/dist-packages/tqdm/auto.py:21: TqdmWarning: IProgress not found. Please update jupyter and ipywidgets. See https://ipywidgets.readthedocs.io/en/stable/user_install.html\n",
      "  from .autonotebook import tqdm as notebook_tqdm\n",
      "Field \"model_server_url\" has conflict with protected namespace \"model_\".\n",
      "\n",
      "You may be able to resolve this warning by setting `model_config['protected_namespaces'] = ()`.\n",
      "Valid config keys have changed in V2:\n",
      "* 'schema_extra' has been renamed to 'json_schema_extra'\n"
     ]
    }
   ],
   "source": [
    "from hydra import compose, initialize\n",
    "from omegaconf import OmegaConf\n",
    "from dataset import get_transforms\n",
    "\n",
    "with initialize(version_base=None, config_path=\"config\", job_name=\"test_app\"):\n",
    "    cfg = compose(config_name=\"root\", overrides=['data=task3'])\n",
    "    \n",
    "transform = get_transforms('train', cfg)"
   ]
  },
  {
   "cell_type": "code",
   "execution_count": 3,
   "id": "41fd359c",
   "metadata": {
    "tags": []
   },
   "outputs": [],
   "source": [
    "from glob import glob\n",
    "from monai.data import Dataset\n",
    "from monai.data import DataLoader\n",
    "datapaths = []\n",
    "\n",
    "for image_path in glob('/workspace/dataset/Task03_Liver/imagesTr/*'):\n",
    "    datapaths.append({'image':image_path, 'label':image_path.replace('imagesTr', 'labelsTr')})\n",
    "    \n",
    "ds = Dataset(datapaths, transform)\n",
    "dl = DataLoader(ds, num_workers=8, batch_size=2)"
   ]
  },
  {
   "cell_type": "code",
   "execution_count": 4,
   "id": "bfe3af9d",
   "metadata": {
    "tags": []
   },
   "outputs": [
    {
     "name": "stdout",
     "output_type": "stream",
     "text": [
      "torch.Size([2, 1, 128, 128, 128]) torch.Size([2, 1, 128, 128, 128])\n",
      "torch.Size([2, 1, 128, 128, 128]) torch.Size([2, 1, 128, 128, 128])\n",
      "torch.Size([2, 1, 128, 128, 128]) torch.Size([2, 1, 128, 128, 128])\n",
      "torch.Size([2, 1, 128, 128, 128]) torch.Size([2, 1, 128, 128, 128])\n",
      "torch.Size([2, 1, 128, 128, 128]) torch.Size([2, 1, 128, 128, 128])\n",
      "torch.Size([2, 1, 128, 128, 128]) torch.Size([2, 1, 128, 128, 128])\n",
      "torch.Size([2, 1, 128, 128, 128]) torch.Size([2, 1, 128, 128, 128])\n",
      "torch.Size([2, 1, 128, 128, 128]) torch.Size([2, 1, 128, 128, 128])\n",
      "torch.Size([2, 1, 128, 128, 128]) torch.Size([2, 1, 128, 128, 128])\n",
      "torch.Size([2, 1, 128, 128, 128]) torch.Size([2, 1, 128, 128, 128])\n",
      "torch.Size([2, 1, 128, 128, 128]) torch.Size([2, 1, 128, 128, 128])\n",
      "torch.Size([2, 1, 128, 128, 128]) torch.Size([2, 1, 128, 128, 128])\n",
      "torch.Size([2, 1, 128, 128, 128]) torch.Size([2, 1, 128, 128, 128])\n",
      "torch.Size([2, 1, 128, 128, 128]) torch.Size([2, 1, 128, 128, 128])\n",
      "torch.Size([2, 1, 128, 128, 128]) torch.Size([2, 1, 128, 128, 128])\n",
      "torch.Size([2, 1, 128, 128, 128]) torch.Size([2, 1, 128, 128, 128])\n",
      "torch.Size([2, 1, 128, 128, 128]) torch.Size([2, 1, 128, 128, 128])\n",
      "torch.Size([2, 1, 128, 128, 128]) torch.Size([2, 1, 128, 128, 128])\n",
      "torch.Size([2, 1, 128, 128, 128]) torch.Size([2, 1, 128, 128, 128])\n",
      "torch.Size([2, 1, 128, 128, 128]) torch.Size([2, 1, 128, 128, 128])\n",
      "torch.Size([2, 1, 128, 128, 128]) torch.Size([2, 1, 128, 128, 128])\n",
      "torch.Size([2, 1, 128, 128, 128]) torch.Size([2, 1, 128, 128, 128])\n",
      "torch.Size([2, 1, 128, 128, 128]) torch.Size([2, 1, 128, 128, 128])\n",
      "torch.Size([2, 1, 128, 128, 128]) torch.Size([2, 1, 128, 128, 128])\n",
      "torch.Size([2, 1, 128, 128, 128]) torch.Size([2, 1, 128, 128, 128])\n",
      "torch.Size([2, 1, 128, 128, 128]) torch.Size([2, 1, 128, 128, 128])\n",
      "torch.Size([2, 1, 128, 128, 128]) torch.Size([2, 1, 128, 128, 128])\n",
      "torch.Size([2, 1, 128, 128, 128]) torch.Size([2, 1, 128, 128, 128])\n",
      "torch.Size([2, 1, 128, 128, 128]) torch.Size([2, 1, 128, 128, 128])\n",
      "torch.Size([2, 1, 128, 128, 128]) torch.Size([2, 1, 128, 128, 128])\n",
      "torch.Size([2, 1, 128, 128, 128]) torch.Size([2, 1, 128, 128, 128])\n",
      "torch.Size([2, 1, 128, 128, 128]) torch.Size([2, 1, 128, 128, 128])\n",
      "torch.Size([2, 1, 128, 128, 128]) torch.Size([2, 1, 128, 128, 128])\n",
      "torch.Size([2, 1, 128, 128, 128]) torch.Size([2, 1, 128, 128, 128])\n",
      "torch.Size([2, 1, 128, 128, 128]) torch.Size([2, 1, 128, 128, 128])\n",
      "torch.Size([2, 1, 128, 128, 128]) torch.Size([2, 1, 128, 128, 128])\n",
      "torch.Size([2, 1, 128, 128, 128]) torch.Size([2, 1, 128, 128, 128])\n",
      "torch.Size([2, 1, 128, 128, 128]) torch.Size([2, 1, 128, 128, 128])\n",
      "torch.Size([2, 1, 128, 128, 128]) torch.Size([2, 1, 128, 128, 128])\n",
      "torch.Size([2, 1, 128, 128, 128]) torch.Size([2, 1, 128, 128, 128])\n",
      "torch.Size([2, 1, 128, 128, 128]) torch.Size([2, 1, 128, 128, 128])\n",
      "torch.Size([2, 1, 128, 128, 128]) torch.Size([2, 1, 128, 128, 128])\n",
      "torch.Size([2, 1, 128, 128, 128]) torch.Size([2, 1, 128, 128, 128])\n",
      "torch.Size([2, 1, 128, 128, 128]) torch.Size([2, 1, 128, 128, 128])\n",
      "torch.Size([2, 1, 128, 128, 128]) torch.Size([2, 1, 128, 128, 128])\n",
      "torch.Size([2, 1, 128, 128, 128]) torch.Size([2, 1, 128, 128, 128])\n",
      "torch.Size([2, 1, 128, 128, 128]) torch.Size([2, 1, 128, 128, 128])\n",
      "torch.Size([2, 1, 128, 128, 128]) torch.Size([2, 1, 128, 128, 128])\n",
      "torch.Size([2, 1, 128, 128, 128]) torch.Size([2, 1, 128, 128, 128])\n",
      "torch.Size([2, 1, 128, 128, 128]) torch.Size([2, 1, 128, 128, 128])\n",
      "torch.Size([2, 1, 128, 128, 128]) torch.Size([2, 1, 128, 128, 128])\n",
      "torch.Size([2, 1, 128, 128, 128]) torch.Size([2, 1, 128, 128, 128])\n",
      "torch.Size([2, 1, 128, 128, 128]) torch.Size([2, 1, 128, 128, 128])\n",
      "torch.Size([2, 1, 128, 128, 128]) torch.Size([2, 1, 128, 128, 128])\n",
      "torch.Size([2, 1, 128, 128, 128]) torch.Size([2, 1, 128, 128, 128])\n",
      "torch.Size([2, 1, 128, 128, 128]) torch.Size([2, 1, 128, 128, 128])\n",
      "torch.Size([2, 1, 128, 128, 128]) torch.Size([2, 1, 128, 128, 128])\n",
      "torch.Size([2, 1, 128, 128, 128]) torch.Size([2, 1, 128, 128, 128])\n",
      "torch.Size([2, 1, 128, 128, 128]) torch.Size([2, 1, 128, 128, 128])\n",
      "torch.Size([2, 1, 128, 128, 128]) torch.Size([2, 1, 128, 128, 128])\n",
      "torch.Size([2, 1, 128, 128, 128]) torch.Size([2, 1, 128, 128, 128])\n",
      "torch.Size([2, 1, 128, 128, 128]) torch.Size([2, 1, 128, 128, 128])\n",
      "torch.Size([2, 1, 128, 128, 128]) torch.Size([2, 1, 128, 128, 128])\n",
      "torch.Size([2, 1, 128, 128, 128]) torch.Size([2, 1, 128, 128, 128])\n",
      "torch.Size([2, 1, 128, 128, 128]) torch.Size([2, 1, 128, 128, 128])\n",
      "torch.Size([1, 1, 128, 128, 128]) torch.Size([1, 1, 128, 128, 128])\n"
     ]
    }
   ],
   "source": [
    "for batch in dl:\n",
    "    print(batch['image'].shape, batch['label'].shape)"
   ]
  },
  {
   "cell_type": "code",
   "execution_count": null,
   "id": "e8b6f93a",
   "metadata": {},
   "outputs": [],
   "source": []
  }
 ],
 "metadata": {
  "kernelspec": {
   "display_name": "Python 3 (ipykernel)",
   "language": "python",
   "name": "python3"
  },
  "language_info": {
   "codemirror_mode": {
    "name": "ipython",
    "version": 3
   },
   "file_extension": ".py",
   "mimetype": "text/x-python",
   "name": "python",
   "nbconvert_exporter": "python",
   "pygments_lexer": "ipython3",
   "version": "3.10.12"
  }
 },
 "nbformat": 4,
 "nbformat_minor": 5
}
