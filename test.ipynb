{
 "cells": [
  {
   "metadata": {
    "tags": [],
    "ExecuteTime": {
     "end_time": "2024-08-25T20:36:55.138913Z",
     "start_time": "2024-08-25T20:36:48.807122Z"
    }
   },
   "cell_type": "code",
   "source": [
    "from hydra import compose, initialize\n",
    "\n",
    "from dataset import get_transforms, load_datalist\n",
    "\n",
    "with initialize(version_base=None, config_path=\"config\", job_name=\"test_app\"):\n",
    "    cfg = compose(config_name=\"root\", overrides=['data=ntuh', 'debug=true'])\n",
    "\n",
    "datalist = load_datalist(cfg)"
   ],
   "id": "d0d21841",
   "outputs": [],
   "execution_count": 1
  },
  {
   "cell_type": "code",
   "id": "41fd359c",
   "metadata": {
    "tags": [],
    "ExecuteTime": {
     "end_time": "2024-08-25T20:37:15.791770Z",
     "start_time": "2024-08-25T20:36:59.639270Z"
    }
   },
   "source": [
    "from utils import get_class\n",
    "from monai.data import ThreadDataLoader\n",
    "\n",
    "dataset_class = get_class(cfg.dataset.type)\n",
    "datasets = {\n",
    "    k: dataset_class(data=v if not cfg.debug else v[:5],\n",
    "                     transform=get_transforms(k, cfg), **cfg.dataset.params)\n",
    "    for k, v in datalist.items()\n",
    "}\n",
    "\n",
    "dataloaders = {k: ThreadDataLoader(v, batch_size=cfg.batch_size[k] if k == 'train' else 1,\n",
    "                                   use_thread_workers=True, buffer_size=cfg.buffer_size,\n",
    "                                   num_workers=cfg.num_workers)\n",
    "               for k, v in datasets.items()}"
   ],
   "outputs": [
    {
     "name": "stderr",
     "output_type": "stream",
     "text": [
      "Loading dataset: 100%|██████████| 5/5 [00:05<00:00,  1.07s/it]\n",
      "Loading dataset: 100%|██████████| 5/5 [00:05<00:00,  1.07s/it]\n",
      "Loading dataset: 100%|██████████| 5/5 [00:04<00:00,  1.04it/s]\n"
     ]
    }
   ],
   "execution_count": 2
  },
  {
   "metadata": {
    "ExecuteTime": {
     "end_time": "2024-08-25T20:37:51.513426Z",
     "start_time": "2024-08-25T20:37:50.631619Z"
    }
   },
   "cell_type": "code",
   "source": [
    "import torch\n",
    "\n",
    "for batch in dataloaders['train']:\n",
    "    print(batch['image'].shape, batch['label'].shape)\n",
    "    break"
   ],
   "id": "3baab9a0fc08b203",
   "outputs": [
    {
     "name": "stdout",
     "output_type": "stream",
     "text": [
      "torch.Size([2, 1, 192, 192, 64]) torch.Size([2, 1, 192, 192, 64])\n"
     ]
    }
   ],
   "execution_count": 4
  },
  {
   "metadata": {
    "ExecuteTime": {
     "end_time": "2024-08-25T19:35:20.145974Z",
     "start_time": "2024-08-25T19:35:20.143300Z"
    }
   },
   "cell_type": "code",
   "source": [
    "from monai.transforms import AsDiscrete\n",
    "\n",
    "discretize = AsDiscrete(to_onehot=5)"
   ],
   "id": "3aab2204adffbb19",
   "outputs": [],
   "execution_count": 4
  },
  {
   "metadata": {
    "ExecuteTime": {
     "end_time": "2024-08-25T19:38:13.344474Z",
     "start_time": "2024-08-25T19:38:13.337381Z"
    }
   },
   "cell_type": "code",
   "source": [
    "import torch\n",
    "\n",
    "x = torch.randint(0, 10, (1, 3, 3))\n",
    "\n",
    "x"
   ],
   "id": "a68b6ca4cf67932b",
   "outputs": [
    {
     "data": {
      "text/plain": [
       "tensor([[[7, 6, 5],\n",
       "         [9, 5, 8],\n",
       "         [9, 0, 3]]])"
      ]
     },
     "execution_count": 10,
     "metadata": {},
     "output_type": "execute_result"
    }
   ],
   "execution_count": 10
  },
  {
   "metadata": {
    "ExecuteTime": {
     "end_time": "2024-08-25T19:38:14.039278Z",
     "start_time": "2024-08-25T19:38:13.931680Z"
    }
   },
   "cell_type": "code",
   "source": "discretize(x)",
   "id": "8d2991d5ae5c5a71",
   "outputs": [
    {
     "ename": "RuntimeError",
     "evalue": "index 7 is out of bounds for dimension 0 with size 5",
     "output_type": "error",
     "traceback": [
      "\u001B[1;31m---------------------------------------------------------------------------\u001B[0m",
      "\u001B[1;31mRuntimeError\u001B[0m                              Traceback (most recent call last)",
      "Cell \u001B[1;32mIn[11], line 1\u001B[0m\n\u001B[1;32m----> 1\u001B[0m discretize(x)\n",
      "File \u001B[1;32m~\\anaconda3\\envs\\medical-segmentation\\Lib\\site-packages\\monai\\transforms\\post\\array.py:221\u001B[0m, in \u001B[0;36mAsDiscrete.__call__\u001B[1;34m(self, img, argmax, to_onehot, threshold, rounding)\u001B[0m\n\u001B[0;32m    219\u001B[0m     \u001B[38;5;28;01mif\u001B[39;00m \u001B[38;5;129;01mnot\u001B[39;00m \u001B[38;5;28misinstance\u001B[39m(to_onehot, \u001B[38;5;28mint\u001B[39m):\n\u001B[0;32m    220\u001B[0m         \u001B[38;5;28;01mraise\u001B[39;00m \u001B[38;5;167;01mValueError\u001B[39;00m(\u001B[38;5;124mf\u001B[39m\u001B[38;5;124m\"\u001B[39m\u001B[38;5;124mthe number of classes for One-Hot must be an integer, got \u001B[39m\u001B[38;5;132;01m{\u001B[39;00m\u001B[38;5;28mtype\u001B[39m(to_onehot)\u001B[38;5;132;01m}\u001B[39;00m\u001B[38;5;124m.\u001B[39m\u001B[38;5;124m\"\u001B[39m)\n\u001B[1;32m--> 221\u001B[0m     img_t \u001B[38;5;241m=\u001B[39m one_hot(\n\u001B[0;32m    222\u001B[0m         img_t, num_classes\u001B[38;5;241m=\u001B[39mto_onehot, dim\u001B[38;5;241m=\u001B[39m\u001B[38;5;28mself\u001B[39m\u001B[38;5;241m.\u001B[39mkwargs\u001B[38;5;241m.\u001B[39mget(\u001B[38;5;124m\"\u001B[39m\u001B[38;5;124mdim\u001B[39m\u001B[38;5;124m\"\u001B[39m, \u001B[38;5;241m0\u001B[39m), dtype\u001B[38;5;241m=\u001B[39m\u001B[38;5;28mself\u001B[39m\u001B[38;5;241m.\u001B[39mkwargs\u001B[38;5;241m.\u001B[39mget(\u001B[38;5;124m\"\u001B[39m\u001B[38;5;124mdtype\u001B[39m\u001B[38;5;124m\"\u001B[39m, torch\u001B[38;5;241m.\u001B[39mfloat)\n\u001B[0;32m    223\u001B[0m     )\n\u001B[0;32m    225\u001B[0m threshold \u001B[38;5;241m=\u001B[39m \u001B[38;5;28mself\u001B[39m\u001B[38;5;241m.\u001B[39mthreshold \u001B[38;5;28;01mif\u001B[39;00m threshold \u001B[38;5;129;01mis\u001B[39;00m \u001B[38;5;28;01mNone\u001B[39;00m \u001B[38;5;28;01melse\u001B[39;00m threshold\n\u001B[0;32m    226\u001B[0m \u001B[38;5;28;01mif\u001B[39;00m threshold \u001B[38;5;129;01mis\u001B[39;00m \u001B[38;5;129;01mnot\u001B[39;00m \u001B[38;5;28;01mNone\u001B[39;00m:\n",
      "File \u001B[1;32m~\\anaconda3\\envs\\medical-segmentation\\Lib\\site-packages\\monai\\networks\\utils.py:192\u001B[0m, in \u001B[0;36mone_hot\u001B[1;34m(labels, num_classes, dtype, dim)\u001B[0m\n\u001B[0;32m    189\u001B[0m sh[dim] \u001B[38;5;241m=\u001B[39m num_classes\n\u001B[0;32m    191\u001B[0m o \u001B[38;5;241m=\u001B[39m torch\u001B[38;5;241m.\u001B[39mzeros(size\u001B[38;5;241m=\u001B[39msh, dtype\u001B[38;5;241m=\u001B[39mdtype, device\u001B[38;5;241m=\u001B[39mlabels\u001B[38;5;241m.\u001B[39mdevice)\n\u001B[1;32m--> 192\u001B[0m labels \u001B[38;5;241m=\u001B[39m o\u001B[38;5;241m.\u001B[39mscatter_(dim\u001B[38;5;241m=\u001B[39mdim, index\u001B[38;5;241m=\u001B[39mlabels\u001B[38;5;241m.\u001B[39mlong(), value\u001B[38;5;241m=\u001B[39m\u001B[38;5;241m1\u001B[39m)\n\u001B[0;32m    194\u001B[0m \u001B[38;5;28;01mreturn\u001B[39;00m labels\n",
      "\u001B[1;31mRuntimeError\u001B[0m: index 7 is out of bounds for dimension 0 with size 5"
     ]
    }
   ],
   "execution_count": 11
  },
  {
   "metadata": {},
   "cell_type": "code",
   "outputs": [],
   "execution_count": null,
   "source": "",
   "id": "6f33d2b69e678b06"
  }
 ],
 "metadata": {
  "kernelspec": {
   "display_name": "Python 3 (ipykernel)",
   "language": "python",
   "name": "python3"
  },
  "language_info": {
   "codemirror_mode": {
    "name": "ipython",
    "version": 3
   },
   "file_extension": ".py",
   "mimetype": "text/x-python",
   "name": "python",
   "nbconvert_exporter": "python",
   "pygments_lexer": "ipython3",
   "version": "3.10.12"
  }
 },
 "nbformat": 4,
 "nbformat_minor": 5
}
