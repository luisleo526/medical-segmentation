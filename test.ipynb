{
 "cells": [
  {
   "metadata": {
    "tags": [],
    "ExecuteTime": {
     "end_time": "2024-08-25T20:36:55.138913Z",
     "start_time": "2024-08-25T20:36:48.807122Z"
    }
   },
   "cell_type": "code",
   "source": [
    "from hydra import compose, initialize\n",
    "\n",
    "from dataset import get_transforms, load_datalist\n",
    "\n",
    "with initialize(version_base=None, config_path=\"config\", job_name=\"test_app\"):\n",
    "    cfg = compose(config_name=\"root\", overrides=['data=ntuh', 'debug=true'])\n",
    "\n",
    "datalist = load_datalist(cfg)"
   ],
   "id": "d0d21841",
   "outputs": [],
   "execution_count": 1
  },
  {
   "cell_type": "code",
   "id": "41fd359c",
   "metadata": {
    "tags": [],
    "ExecuteTime": {
     "end_time": "2024-08-25T20:37:15.791770Z",
     "start_time": "2024-08-25T20:36:59.639270Z"
    }
   },
   "source": [
    "from utils import get_class\n",
    "from monai.data import ThreadDataLoader\n",
    "\n",
    "dataset_class = get_class(cfg.dataset.type)\n",
    "datasets = {\n",
    "    k: dataset_class(data=v if not cfg.debug else v[:5],\n",
    "                     transform=get_transforms(k, cfg), **cfg.dataset.params)\n",
    "    for k, v in datalist.items()\n",
    "}\n",
    "\n",
    "dataloaders = {k: ThreadDataLoader(v, batch_size=cfg.batch_size[k] if k == 'train' else 1,\n",
    "                                   use_thread_workers=True, buffer_size=cfg.buffer_size,\n",
    "                                   num_workers=cfg.num_workers)\n",
    "               for k, v in datasets.items()}"
   ],
   "outputs": [
    {
     "name": "stderr",
     "output_type": "stream",
     "text": [
      "Loading dataset: 100%|██████████| 5/5 [00:05<00:00,  1.07s/it]\n",
      "Loading dataset: 100%|██████████| 5/5 [00:05<00:00,  1.07s/it]\n",
      "Loading dataset: 100%|██████████| 5/5 [00:04<00:00,  1.04it/s]\n"
     ]
    }
   ],
   "execution_count": 2
  },
  {
   "metadata": {
    "ExecuteTime": {
     "end_time": "2024-08-25T20:37:51.513426Z",
     "start_time": "2024-08-25T20:37:50.631619Z"
    }
   },
   "cell_type": "code",
   "source": [
    "import torch\n",
    "\n",
    "for batch in dataloaders['train']:\n",
    "    print(batch['image'].shape, batch['label'].shape)\n",
    "    break"
   ],
   "id": "3baab9a0fc08b203",
   "outputs": [
    {
     "name": "stdout",
     "output_type": "stream",
     "text": [
      "torch.Size([2, 1, 192, 192, 64]) torch.Size([2, 1, 192, 192, 64])\n"
     ]
    }
   ],
   "execution_count": 4
  },
  {
   "metadata": {
    "ExecuteTime": {
     "end_time": "2024-08-25T19:35:20.145974Z",
     "start_time": "2024-08-25T19:35:20.143300Z"
    }
   },
   "cell_type": "code",
   "source": [
    "from monai.transforms import AsDiscrete\n",
    "\n",
    "discretize = AsDiscrete(to_onehot=5)"
   ],
   "id": "3aab2204adffbb19",
   "outputs": [],
   "execution_count": 4
  },
  {
   "metadata": {
    "ExecuteTime": {
     "end_time": "2024-08-25T19:38:13.344474Z",
     "start_time": "2024-08-25T19:38:13.337381Z"
    }
   },
   "cell_type": "code",
   "source": [
    "import torch\n",
    "\n",
    "x = torch.randint(0, 10, (1, 3, 3))\n",
    "\n",
    "x"
   ],
   "id": "a68b6ca4cf67932b",
   "outputs": [
    {
     "data": {
      "text/plain": [
       "tensor([[[7, 6, 5],\n",
       "         [9, 5, 8],\n",
       "         [9, 0, 3]]])"
      ]
     },
     "execution_count": 10,
     "metadata": {},
     "output_type": "execute_result"
    }
   ],
   "execution_count": 10
  },
  {
   "metadata": {
    "ExecuteTime": {
     "end_time": "2024-08-25T21:15:48.596343Z",
     "start_time": "2024-08-25T21:15:48.586637Z"
    }
   },
   "cell_type": "code",
   "source": "datalist",
   "id": "8d2991d5ae5c5a71",
   "outputs": [
    {
     "data": {
      "text/plain": [
       "{'train': [{'image': 'D:\\\\Dropbox\\\\Datasets\\\\HepaticVessel\\\\images\\\\hepaticvessel_012.nii.gz',\n",
       "   'label': 'D:\\\\Dropbox\\\\Datasets\\\\HepaticVessel\\\\labels\\\\hepaticvessel_012.seg.nrrd'},\n",
       "  {'image': 'D:\\\\Dropbox\\\\Datasets\\\\HepaticVessel\\\\images\\\\hepaticvessel_013.nii.gz',\n",
       "   'label': 'D:\\\\Dropbox\\\\Datasets\\\\HepaticVessel\\\\labels\\\\hepaticvessel_013.seg.nrrd'},\n",
       "  {'image': 'D:\\\\Dropbox\\\\Datasets\\\\HepaticVessel\\\\images\\\\hepaticvessel_014.nii.gz',\n",
       "   'label': 'D:\\\\Dropbox\\\\Datasets\\\\HepaticVessel\\\\labels\\\\hepaticvessel_014.seg.nrrd'},\n",
       "  {'image': 'D:\\\\Dropbox\\\\Datasets\\\\HepaticVessel\\\\images\\\\hepaticvessel_015.nii.gz',\n",
       "   'label': 'D:\\\\Dropbox\\\\Datasets\\\\HepaticVessel\\\\labels\\\\hepaticvessel_015.seg.nrrd'},\n",
       "  {'image': 'D:\\\\Dropbox\\\\Datasets\\\\HepaticVessel\\\\images\\\\hepaticvessel_016.nii.gz',\n",
       "   'label': 'D:\\\\Dropbox\\\\Datasets\\\\HepaticVessel\\\\labels\\\\hepaticvessel_016.seg.nrrd'},\n",
       "  {'image': 'D:\\\\Dropbox\\\\Datasets\\\\HepaticVessel\\\\images\\\\hepaticvessel_017.nii.gz',\n",
       "   'label': 'D:\\\\Dropbox\\\\Datasets\\\\HepaticVessel\\\\labels\\\\hepaticvessel_017.seg.nrrd'},\n",
       "  {'image': 'D:\\\\Dropbox\\\\Datasets\\\\HepaticVessel\\\\images\\\\hepaticvessel_018.nii.gz',\n",
       "   'label': 'D:\\\\Dropbox\\\\Datasets\\\\HepaticVessel\\\\labels\\\\hepaticvessel_018.seg.nrrd'},\n",
       "  {'image': 'D:\\\\Dropbox\\\\Datasets\\\\HepaticVessel\\\\images\\\\hepaticvessel_019.nii.gz',\n",
       "   'label': 'D:\\\\Dropbox\\\\Datasets\\\\HepaticVessel\\\\labels\\\\hepaticvessel_019.seg.nrrd'},\n",
       "  {'image': 'D:\\\\Dropbox\\\\Datasets\\\\HepaticVessel\\\\images\\\\hepaticvessel_020.nii.gz',\n",
       "   'label': 'D:\\\\Dropbox\\\\Datasets\\\\HepaticVessel\\\\labels\\\\hepaticvessel_020.seg.nrrd'},\n",
       "  {'image': 'D:\\\\Dropbox\\\\Datasets\\\\HepaticVessel\\\\images\\\\hepaticvessel_021.nii.gz',\n",
       "   'label': 'D:\\\\Dropbox\\\\Datasets\\\\HepaticVessel\\\\labels\\\\hepaticvessel_021.seg.nrrd'},\n",
       "  {'image': 'D:\\\\Dropbox\\\\Datasets\\\\HepaticVessel\\\\images\\\\hepaticvessel_022.nii.gz',\n",
       "   'label': 'D:\\\\Dropbox\\\\Datasets\\\\HepaticVessel\\\\labels\\\\hepaticvessel_022.seg.nrrd'},\n",
       "  {'image': 'D:\\\\Dropbox\\\\Datasets\\\\HepaticVessel\\\\images\\\\hepaticvessel_023.nii.gz',\n",
       "   'label': 'D:\\\\Dropbox\\\\Datasets\\\\HepaticVessel\\\\labels\\\\hepaticvessel_023.seg.nrrd'},\n",
       "  {'image': 'D:\\\\Dropbox\\\\Datasets\\\\HepaticVessel\\\\images\\\\hepaticvessel_024.nii.gz',\n",
       "   'label': 'D:\\\\Dropbox\\\\Datasets\\\\HepaticVessel\\\\labels\\\\hepaticvessel_024.seg.nrrd'},\n",
       "  {'image': 'D:\\\\Dropbox\\\\Datasets\\\\HepaticVessel\\\\images\\\\hepaticvessel_025.nii.gz',\n",
       "   'label': 'D:\\\\Dropbox\\\\Datasets\\\\HepaticVessel\\\\labels\\\\hepaticvessel_025.seg.nrrd'},\n",
       "  {'image': 'D:\\\\Dropbox\\\\Datasets\\\\HepaticVessel\\\\images\\\\hepaticvessel_026.nii.gz',\n",
       "   'label': 'D:\\\\Dropbox\\\\Datasets\\\\HepaticVessel\\\\labels\\\\hepaticvessel_026.seg.nrrd'},\n",
       "  {'image': 'D:\\\\Dropbox\\\\Datasets\\\\HepaticVessel\\\\images\\\\hepaticvessel_027.nii.gz',\n",
       "   'label': 'D:\\\\Dropbox\\\\Datasets\\\\HepaticVessel\\\\labels\\\\hepaticvessel_027.seg.nrrd'},\n",
       "  {'image': 'D:\\\\Dropbox\\\\Datasets\\\\HepaticVessel\\\\images\\\\hepaticvessel_028.nii.gz',\n",
       "   'label': 'D:\\\\Dropbox\\\\Datasets\\\\HepaticVessel\\\\labels\\\\hepaticvessel_028.seg.nrrd'},\n",
       "  {'image': 'D:\\\\Dropbox\\\\Datasets\\\\HepaticVessel\\\\images\\\\hepaticvessel_029.nii.gz',\n",
       "   'label': 'D:\\\\Dropbox\\\\Datasets\\\\HepaticVessel\\\\labels\\\\hepaticvessel_029.seg.nrrd'},\n",
       "  {'image': 'D:\\\\Dropbox\\\\Datasets\\\\HepaticVessel\\\\images\\\\hepaticvessel_030.nii.gz',\n",
       "   'label': 'D:\\\\Dropbox\\\\Datasets\\\\HepaticVessel\\\\labels\\\\hepaticvessel_030.seg.nrrd'},\n",
       "  {'image': 'D:\\\\Dropbox\\\\Datasets\\\\HepaticVessel\\\\images\\\\hepaticvessel_031.nii.gz',\n",
       "   'label': 'D:\\\\Dropbox\\\\Datasets\\\\HepaticVessel\\\\labels\\\\hepaticvessel_031.seg.nrrd'}],\n",
       " 'val': [{'image': 'D:\\\\Dropbox\\\\Datasets\\\\HepaticVessel\\\\images\\\\hepaticvessel_012.nii.gz',\n",
       "   'label': 'D:\\\\Dropbox\\\\Datasets\\\\HepaticVessel\\\\labels\\\\hepaticvessel_012.seg.nrrd'},\n",
       "  {'image': 'D:\\\\Dropbox\\\\Datasets\\\\HepaticVessel\\\\images\\\\hepaticvessel_013.nii.gz',\n",
       "   'label': 'D:\\\\Dropbox\\\\Datasets\\\\HepaticVessel\\\\labels\\\\hepaticvessel_013.seg.nrrd'},\n",
       "  {'image': 'D:\\\\Dropbox\\\\Datasets\\\\HepaticVessel\\\\images\\\\hepaticvessel_014.nii.gz',\n",
       "   'label': 'D:\\\\Dropbox\\\\Datasets\\\\HepaticVessel\\\\labels\\\\hepaticvessel_014.seg.nrrd'},\n",
       "  {'image': 'D:\\\\Dropbox\\\\Datasets\\\\HepaticVessel\\\\images\\\\hepaticvessel_015.nii.gz',\n",
       "   'label': 'D:\\\\Dropbox\\\\Datasets\\\\HepaticVessel\\\\labels\\\\hepaticvessel_015.seg.nrrd'},\n",
       "  {'image': 'D:\\\\Dropbox\\\\Datasets\\\\HepaticVessel\\\\images\\\\hepaticvessel_016.nii.gz',\n",
       "   'label': 'D:\\\\Dropbox\\\\Datasets\\\\HepaticVessel\\\\labels\\\\hepaticvessel_016.seg.nrrd'},\n",
       "  {'image': 'D:\\\\Dropbox\\\\Datasets\\\\HepaticVessel\\\\images\\\\hepaticvessel_017.nii.gz',\n",
       "   'label': 'D:\\\\Dropbox\\\\Datasets\\\\HepaticVessel\\\\labels\\\\hepaticvessel_017.seg.nrrd'},\n",
       "  {'image': 'D:\\\\Dropbox\\\\Datasets\\\\HepaticVessel\\\\images\\\\hepaticvessel_018.nii.gz',\n",
       "   'label': 'D:\\\\Dropbox\\\\Datasets\\\\HepaticVessel\\\\labels\\\\hepaticvessel_018.seg.nrrd'},\n",
       "  {'image': 'D:\\\\Dropbox\\\\Datasets\\\\HepaticVessel\\\\images\\\\hepaticvessel_019.nii.gz',\n",
       "   'label': 'D:\\\\Dropbox\\\\Datasets\\\\HepaticVessel\\\\labels\\\\hepaticvessel_019.seg.nrrd'},\n",
       "  {'image': 'D:\\\\Dropbox\\\\Datasets\\\\HepaticVessel\\\\images\\\\hepaticvessel_020.nii.gz',\n",
       "   'label': 'D:\\\\Dropbox\\\\Datasets\\\\HepaticVessel\\\\labels\\\\hepaticvessel_020.seg.nrrd'},\n",
       "  {'image': 'D:\\\\Dropbox\\\\Datasets\\\\HepaticVessel\\\\images\\\\hepaticvessel_021.nii.gz',\n",
       "   'label': 'D:\\\\Dropbox\\\\Datasets\\\\HepaticVessel\\\\labels\\\\hepaticvessel_021.seg.nrrd'},\n",
       "  {'image': 'D:\\\\Dropbox\\\\Datasets\\\\HepaticVessel\\\\images\\\\hepaticvessel_022.nii.gz',\n",
       "   'label': 'D:\\\\Dropbox\\\\Datasets\\\\HepaticVessel\\\\labels\\\\hepaticvessel_022.seg.nrrd'},\n",
       "  {'image': 'D:\\\\Dropbox\\\\Datasets\\\\HepaticVessel\\\\images\\\\hepaticvessel_023.nii.gz',\n",
       "   'label': 'D:\\\\Dropbox\\\\Datasets\\\\HepaticVessel\\\\labels\\\\hepaticvessel_023.seg.nrrd'},\n",
       "  {'image': 'D:\\\\Dropbox\\\\Datasets\\\\HepaticVessel\\\\images\\\\hepaticvessel_024.nii.gz',\n",
       "   'label': 'D:\\\\Dropbox\\\\Datasets\\\\HepaticVessel\\\\labels\\\\hepaticvessel_024.seg.nrrd'},\n",
       "  {'image': 'D:\\\\Dropbox\\\\Datasets\\\\HepaticVessel\\\\images\\\\hepaticvessel_025.nii.gz',\n",
       "   'label': 'D:\\\\Dropbox\\\\Datasets\\\\HepaticVessel\\\\labels\\\\hepaticvessel_025.seg.nrrd'},\n",
       "  {'image': 'D:\\\\Dropbox\\\\Datasets\\\\HepaticVessel\\\\images\\\\hepaticvessel_026.nii.gz',\n",
       "   'label': 'D:\\\\Dropbox\\\\Datasets\\\\HepaticVessel\\\\labels\\\\hepaticvessel_026.seg.nrrd'},\n",
       "  {'image': 'D:\\\\Dropbox\\\\Datasets\\\\HepaticVessel\\\\images\\\\hepaticvessel_027.nii.gz',\n",
       "   'label': 'D:\\\\Dropbox\\\\Datasets\\\\HepaticVessel\\\\labels\\\\hepaticvessel_027.seg.nrrd'},\n",
       "  {'image': 'D:\\\\Dropbox\\\\Datasets\\\\HepaticVessel\\\\images\\\\hepaticvessel_028.nii.gz',\n",
       "   'label': 'D:\\\\Dropbox\\\\Datasets\\\\HepaticVessel\\\\labels\\\\hepaticvessel_028.seg.nrrd'},\n",
       "  {'image': 'D:\\\\Dropbox\\\\Datasets\\\\HepaticVessel\\\\images\\\\hepaticvessel_029.nii.gz',\n",
       "   'label': 'D:\\\\Dropbox\\\\Datasets\\\\HepaticVessel\\\\labels\\\\hepaticvessel_029.seg.nrrd'},\n",
       "  {'image': 'D:\\\\Dropbox\\\\Datasets\\\\HepaticVessel\\\\images\\\\hepaticvessel_030.nii.gz',\n",
       "   'label': 'D:\\\\Dropbox\\\\Datasets\\\\HepaticVessel\\\\labels\\\\hepaticvessel_030.seg.nrrd'},\n",
       "  {'image': 'D:\\\\Dropbox\\\\Datasets\\\\HepaticVessel\\\\images\\\\hepaticvessel_031.nii.gz',\n",
       "   'label': 'D:\\\\Dropbox\\\\Datasets\\\\HepaticVessel\\\\labels\\\\hepaticvessel_031.seg.nrrd'}],\n",
       " 'test': [{'image': 'D:\\\\Dropbox\\\\Datasets\\\\HepaticVessel\\\\images\\\\hepaticvessel_012.nii.gz'},\n",
       "  {'image': 'D:\\\\Dropbox\\\\Datasets\\\\HepaticVessel\\\\images\\\\hepaticvessel_013.nii.gz'},\n",
       "  {'image': 'D:\\\\Dropbox\\\\Datasets\\\\HepaticVessel\\\\images\\\\hepaticvessel_014.nii.gz'},\n",
       "  {'image': 'D:\\\\Dropbox\\\\Datasets\\\\HepaticVessel\\\\images\\\\hepaticvessel_015.nii.gz'},\n",
       "  {'image': 'D:\\\\Dropbox\\\\Datasets\\\\HepaticVessel\\\\images\\\\hepaticvessel_016.nii.gz'},\n",
       "  {'image': 'D:\\\\Dropbox\\\\Datasets\\\\HepaticVessel\\\\images\\\\hepaticvessel_017.nii.gz'},\n",
       "  {'image': 'D:\\\\Dropbox\\\\Datasets\\\\HepaticVessel\\\\images\\\\hepaticvessel_018.nii.gz'},\n",
       "  {'image': 'D:\\\\Dropbox\\\\Datasets\\\\HepaticVessel\\\\images\\\\hepaticvessel_019.nii.gz'},\n",
       "  {'image': 'D:\\\\Dropbox\\\\Datasets\\\\HepaticVessel\\\\images\\\\hepaticvessel_020.nii.gz'},\n",
       "  {'image': 'D:\\\\Dropbox\\\\Datasets\\\\HepaticVessel\\\\images\\\\hepaticvessel_021.nii.gz'},\n",
       "  {'image': 'D:\\\\Dropbox\\\\Datasets\\\\HepaticVessel\\\\images\\\\hepaticvessel_022.nii.gz'},\n",
       "  {'image': 'D:\\\\Dropbox\\\\Datasets\\\\HepaticVessel\\\\images\\\\hepaticvessel_023.nii.gz'},\n",
       "  {'image': 'D:\\\\Dropbox\\\\Datasets\\\\HepaticVessel\\\\images\\\\hepaticvessel_024.nii.gz'},\n",
       "  {'image': 'D:\\\\Dropbox\\\\Datasets\\\\HepaticVessel\\\\images\\\\hepaticvessel_025.nii.gz'},\n",
       "  {'image': 'D:\\\\Dropbox\\\\Datasets\\\\HepaticVessel\\\\images\\\\hepaticvessel_026.nii.gz'},\n",
       "  {'image': 'D:\\\\Dropbox\\\\Datasets\\\\HepaticVessel\\\\images\\\\hepaticvessel_027.nii.gz'},\n",
       "  {'image': 'D:\\\\Dropbox\\\\Datasets\\\\HepaticVessel\\\\images\\\\hepaticvessel_028.nii.gz'},\n",
       "  {'image': 'D:\\\\Dropbox\\\\Datasets\\\\HepaticVessel\\\\images\\\\hepaticvessel_029.nii.gz'},\n",
       "  {'image': 'D:\\\\Dropbox\\\\Datasets\\\\HepaticVessel\\\\images\\\\hepaticvessel_030.nii.gz'},\n",
       "  {'image': 'D:\\\\Dropbox\\\\Datasets\\\\HepaticVessel\\\\images\\\\hepaticvessel_031.nii.gz'}]}"
      ]
     },
     "execution_count": 5,
     "metadata": {},
     "output_type": "execute_result"
    }
   ],
   "execution_count": 5
  },
  {
   "metadata": {},
   "cell_type": "code",
   "outputs": [],
   "execution_count": null,
   "source": "",
   "id": "6f33d2b69e678b06"
  }
 ],
 "metadata": {
  "kernelspec": {
   "display_name": "Python 3 (ipykernel)",
   "language": "python",
   "name": "python3"
  },
  "language_info": {
   "codemirror_mode": {
    "name": "ipython",
    "version": 3
   },
   "file_extension": ".py",
   "mimetype": "text/x-python",
   "name": "python",
   "nbconvert_exporter": "python",
   "pygments_lexer": "ipython3",
   "version": "3.10.12"
  }
 },
 "nbformat": 4,
 "nbformat_minor": 5
}
